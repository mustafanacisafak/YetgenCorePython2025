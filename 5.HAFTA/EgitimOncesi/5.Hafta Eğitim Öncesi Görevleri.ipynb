{
 "cells": [
  {
   "cell_type": "markdown",
   "metadata": {
    "id": "hpyeSHc7K1aN"
   },
   "source": [
    "# Problem 1\n",
    "Bir YetGenli yeni aldığı bahçesinin etrafına çit çevirmek istiyor. Bahçenin etrafını çit ile çevirmek için gerekli çit uzunluğunu ve bahçenin alanını hesaplayan fonksiyonu yazınız."
   ]
  },
  {
   "cell_type": "code",
   "execution_count": 2,
   "metadata": {
    "id": "HfCgs5BHK1aT"
   },
   "outputs": [
    {
     "name": "stdin",
     "output_type": "stream",
     "text": [
      "Uzunluk:  15\n",
      "Genislik:  15\n"
     ]
    },
    {
     "name": "stdout",
     "output_type": "stream",
     "text": [
      "60.0 225.0\n"
     ]
    }
   ],
   "source": [
    "# 1.Problemin Çözümünü Buraya Yazınız\n",
    "\n",
    "def bahce_hesapla(uzunluk, genislik):  \n",
    "    cit_uzunlugu = 2 * (uzunluk + genislik)\n",
    "    alan = uzunluk * genislik  \n",
    "    return cit_uzunlugu, alan\n",
    "uzunluk = float(input(\"Uzunluk: \"))\n",
    "genislik = float(input(\"Genislik: \"))\n",
    "\n",
    "cit, alan = bahce_hesapla(uzunluk, genislik)\n",
    "print(cit,alan)"
   ]
  },
  {
   "cell_type": "code",
   "execution_count": null,
   "metadata": {},
   "outputs": [],
   "source": []
  },
  {
   "cell_type": "code",
   "execution_count": null,
   "metadata": {},
   "outputs": [],
   "source": []
  },
  {
   "cell_type": "markdown",
   "metadata": {
    "id": "L90q8kwQK1aW"
   },
   "source": [
    "# Problem 2\n",
    "Kendisine gönderilen 2 sayı arasındaki tüm asal sayıları bulan fonksiyonu yazınız."
   ]
  },
  {
   "cell_type": "code",
   "execution_count": 4,
   "metadata": {
    "id": "VxbxzQXdK1aX"
   },
   "outputs": [
    {
     "name": "stdout",
     "output_type": "stream",
     "text": [
      "[11, 13, 17, 19, 23, 29]\n"
     ]
    }
   ],
   "source": [
    "# 2.Problemin Çözümünü Buraya Yazınız\n",
    "def asal_sayilar(a, b):\n",
    "    return [n for n in range(min(a, b), max(a, b) + 1) \n",
    "            if n > 1 and all(n % i != 0 for i in range(2, int(n ** 0.5) + 1))]\n",
    "    \n",
    "print(asal_sayilar(10, 30))"
   ]
  },
  {
   "cell_type": "code",
   "execution_count": null,
   "metadata": {},
   "outputs": [],
   "source": []
  },
  {
   "cell_type": "markdown",
   "metadata": {
    "id": "OqbcX2FPK1aY"
   },
   "source": [
    "# Problem 3\n",
    "YetGen liderlerinin kurdukları girişim unicorn oluyor. YetGen liderleri iş arkadaşlarının alacağı ücretlerini hesaplamak için bir fonksiyon yazdılar. Bu fonksiyonu kullanarak, YetGen liderlerinin iş arkadaşlarına verecekleri ücretleri hesaplayınız.\n",
    "\n",
    "Ücret hesaplanması çalışma saatine bağlıdır. Bunun için kullanıcıdan çalışma saati bilgisinn alın. Sonrasında yapılacak ödemenin hesaplanacağı computePay() adlı bir fonksiyon oluşturun. Bu fonksiyonun içinde işlemler yapın. Çalışma saati 40 ve altındaysa saat başına ücret 10 TL’dir. 40 saatin üstünde çalışıldıysa saat başına ücret 15 TL sayılmaktadır.\n",
    "\n",
    "```\n",
    "Test etmek için 30 saat değerini giriniz,  sonuç 300 TL çıkmalı, \n",
    "ikincil test olarak 50 değerini giriniz,  sonuç 750 TL çıkmalı.\n",
    "```"
   ]
  },
  {
   "cell_type": "code",
   "execution_count": 8,
   "metadata": {
    "id": "Uhg6Gcc1K1aZ"
   },
   "outputs": [
    {
     "name": "stdout",
     "output_type": "stream",
     "text": [
      "300\n",
      "750\n"
     ]
    }
   ],
   "source": [
    "# 3.Problemin Çözümünü Buraya Yazınız\n",
    "\n",
    "def computePay(calisma_saati):\n",
    "    if calisma_saati <= 40:\n",
    "        ucret = calisma_saati * 10\n",
    "    else:\n",
    "        ucret = calisma_saati * 15\n",
    "    return ucret\n",
    "\n",
    "print(computePay(30))\n",
    "print(computePay(50))"
   ]
  },
  {
   "cell_type": "code",
   "execution_count": null,
   "metadata": {},
   "outputs": [],
   "source": []
  },
  {
   "cell_type": "markdown",
   "metadata": {
    "id": "V0BeBR90K1aZ"
   },
   "source": [
    "# Problem 4\n",
    "YetGenliler zirveye gitmek için toplanıyor. Zirveye gitmek için kiraladıkları araçlar 4'er kişiliktir. Gelecek kişi sayısı için Airtable üzerinde form açılıyor. Gelecek kişi sayısını alıp dört kişilik araçlara bölüp kalan kişi sayısını döndüren bir fonksiyon yazınız."
   ]
  },
  {
   "cell_type": "code",
   "execution_count": 9,
   "metadata": {
    "id": "AC8x-EQlK1aa"
   },
   "outputs": [
    {
     "name": "stdout",
     "output_type": "stream",
     "text": [
      "1\n",
      "2\n",
      "0\n"
     ]
    }
   ],
   "source": [
    "# 4.Problemin Çözümünü Buraya Yazınız\n",
    "def kalan(kisi_sayisi):\n",
    "    return kisi_sayisi % 4  \n",
    "print(kalan(25))  \n",
    "print(kalan(18)) \n",
    "print(kalan(12))  "
   ]
  },
  {
   "cell_type": "code",
   "execution_count": null,
   "metadata": {},
   "outputs": [],
   "source": []
  },
  {
   "cell_type": "markdown",
   "metadata": {
    "id": "dWcDwEVjK1ab"
   },
   "source": [
    "# Problem 5\n",
    "sayiTopla() adında bir fonksiyon yazın. sayiTopla() fonksiyonu girilen sayıları toplayarak yazdırmasını sağlayan bir fonksiyon yazınız.\n",
    "\n",
    "Örneğin sayiTopla(1,2,3,4,5) yazdığımızda 15 çıktısını almalıyız. sayiTopla(1,2,3,4,5,6,7,8,9,10) yazdığımızda 55 çıktısını almalıyız."
   ]
  },
  {
   "cell_type": "code",
   "execution_count": 10,
   "metadata": {
    "id": "fmCZcLM2K1ad"
   },
   "outputs": [
    {
     "name": "stdout",
     "output_type": "stream",
     "text": [
      "15\n",
      "55\n"
     ]
    }
   ],
   "source": [
    "# 5.Problemin Çözümünü Buraya Yazınız\n",
    "def sayiTopla(*sayilar):\n",
    "    print(sum(sayilar))\n",
    "sayiTopla(1, 2, 3, 4, 5) \n",
    "sayiTopla(1, 2, 3, 4, 5, 6, 7, 8, 9, 10)"
   ]
  },
  {
   "cell_type": "code",
   "execution_count": null,
   "metadata": {},
   "outputs": [],
   "source": []
  },
  {
   "cell_type": "markdown",
   "metadata": {
    "id": "kd9edMkoK1ae"
   },
   "source": [
    "# Problem 6\n",
    "\n",
    "[(\"xxx\",1),(\"xxx\",2),(\"xxx\",9),(\"xxx\",3), (\"xxx\",1),(\"xxx\",13),(\"xxx\",26),(\"xxx\",4)] listesi içerisinde verilen elemanların her birini tuple içindeki 2. Elemana göre sıralayınız. \n",
    "\n"
   ]
  },
  {
   "cell_type": "code",
   "execution_count": 11,
   "metadata": {
    "id": "Jk4tgaH3K1af"
   },
   "outputs": [
    {
     "name": "stdout",
     "output_type": "stream",
     "text": [
      "[('xxx', 1), ('xxx', 1), ('xxx', 2), ('xxx', 3), ('xxx', 4), ('xxx', 9), ('xxx', 13), ('xxx', 26)]\n"
     ]
    }
   ],
   "source": [
    "\n",
    "veriler = [(\"xxx\",1),(\"xxx\",2),(\"xxx\",9),(\"xxx\",3), \n",
    "           (\"xxx\",1),(\"xxx\",13),(\"xxx\",26),(\"xxx\",4)]\n",
    "\n",
    "sirali_veriler = sorted(veriler, key=lambda x: x[1])\n",
    "print(sirali_veriler)\n"
   ]
  },
  {
   "cell_type": "code",
   "execution_count": null,
   "metadata": {},
   "outputs": [],
   "source": []
  },
  {
   "cell_type": "markdown",
   "metadata": {
    "id": "V0yKbDraK1af"
   },
   "source": [
    "# Problem 7\n",
    "List comprehension kullanarak 1'den 100'e kadar olan sayılardan sadece çift sayıları bir listeye atmayı yapmayı çalışın."
   ]
  },
  {
   "cell_type": "code",
   "execution_count": 12,
   "metadata": {
    "id": "iHosmISJK1ag"
   },
   "outputs": [
    {
     "name": "stdout",
     "output_type": "stream",
     "text": [
      "[2, 4, 6, 8, 10, 12, 14, 16, 18, 20, 22, 24, 26, 28, 30, 32, 34, 36, 38, 40, 42, 44, 46, 48, 50, 52, 54, 56, 58, 60, 62, 64, 66, 68, 70, 72, 74, 76, 78, 80, 82, 84, 86, 88, 90, 92, 94, 96, 98, 100]\n"
     ]
    }
   ],
   "source": [
    "# 7.Problemin Çözümünü Buraya Yazınız\n",
    "cift_sayilar = [x for x in range(1, 101) if x % 2 == 0]\n",
    "print(cift_sayilar)\n"
   ]
  }
 ],
 "metadata": {
  "colab": {
   "provenance": []
  },
  "kernelspec": {
   "display_name": "Python 3 (ipykernel)",
   "language": "python",
   "name": "python3"
  },
  "language_info": {
   "codemirror_mode": {
    "name": "ipython",
    "version": 3
   },
   "file_extension": ".py",
   "mimetype": "text/x-python",
   "name": "python",
   "nbconvert_exporter": "python",
   "pygments_lexer": "ipython3",
   "version": "3.11.7"
  },
  "vscode": {
   "interpreter": {
    "hash": "5026d2d6e7aaaaba093def813beadff083d8733e4a511af01735cbabd156995d"
   }
  }
 },
 "nbformat": 4,
 "nbformat_minor": 4
}
