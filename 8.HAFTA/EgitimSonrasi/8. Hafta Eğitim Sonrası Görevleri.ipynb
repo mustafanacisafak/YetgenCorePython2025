{
 "cells": [
  {
   "attachments": {},
   "cell_type": "markdown",
   "metadata": {},
   "source": [
    "# Problem 1\n",
    "\n",
    "Şimdi beraber kullanıcılardan aldığımız verileri işleyerek, onlara hem çıktı verecek, hem de aldığımız ve hesapladığımız verileri ileride kullanabilmek adına kaydedeceğiz.\n",
    "\n",
    "\n",
    " **Bu bir veri giriş platformu olacak**\n",
    "\n",
    "\n",
    " * kullanıcıya kaç giriş yapacağını soracağız\n",
    "* kullanıcıdan isim-soyisim, yaş, boy, kilo bilgilerini alarak VKİ hesaplayacağız\n",
    "* ardından bunları sınıflara göre kaydedeceğiz bir dosyaya kaydedeceğiz\n",
    "\n",
    "\n",
    "Sınıflar ise şu şekilde: \n",
    "* 18, 5 kg/m.'nin altında olanlar: Zayıf\n",
    "* 18.5 – 24, 9 kg/m. arasında olanlar: Normal kilolu\n",
    "* 25 – 29, 9 kg/m. arasında olanlar: Fazla kilolu\n",
    "* 30 – 39, 9 kg/m. arasında olanlar: Obez\n",
    "* 40 kg/m.'nin üzerinde olanlar: İleri derecede obez (morbid obez), olarak görülür."
   ]
  },
  {
   "cell_type": "code",
   "execution_count": 7,
   "metadata": {},
   "outputs": [],
   "source": [
    "# 1.Problemin Çözümünü Buraya Yazınız\n",
    "def kullanici_giris():\n",
    "    while True:\n",
    "        try:\n",
    "            kisi = int(input(\"Kac giris yapacaksiniz?\"))\n",
    "            print(\"Dogru giris yaptiniz.\")\n",
    "            break\n",
    "        except ValueError:\n",
    "            print(\"Lutfen tam sayi giriniz!\")           \n",
    "    return kisi"
   ]
  },
  {
   "cell_type": "code",
   "execution_count": null,
   "metadata": {},
   "outputs": [],
   "source": []
  },
  {
   "cell_type": "code",
   "execution_count": 8,
   "metadata": {},
   "outputs": [],
   "source": [
    "def bilgi_girisi():\n",
    "    bilgiler = []\n",
    "    for i in range(kullanici_giris()):\n",
    "        info = input(\"Sirasiyla isim-soyisim, yas, boy(cm), kilo(kg) bilgilerini arasına '-' koyarak giriniz:\")\n",
    "        info = info.split('-')\n",
    "        bilgiler.append(info)\n",
    "    return bilgiler\n",
    "    "
   ]
  },
  {
   "cell_type": "code",
   "execution_count": 9,
   "metadata": {},
   "outputs": [],
   "source": [
    "def vki_dahil():\n",
    "    bilgiler = bilgi_girisi()\n",
    "    for i in range(len(bilgiler)):\n",
    "        r = float(bilgiler[i][3])/(float(bilgiler[i][2])/100)**2\n",
    "        bilgiler[i].append(r)\n",
    "    return bilgiler\n",
    "    "
   ]
  },
  {
   "cell_type": "code",
   "execution_count": 10,
   "metadata": {},
   "outputs": [],
   "source": [
    "def siniflandir():\n",
    "    while True:\n",
    "        try:\n",
    "        \n",
    "            bilgiler = vki_dahil()\n",
    "            for i in range(len(bilgiler)):\n",
    "                if bilgiler[i][4] < 18.5:\n",
    "                    bilgiler[i].append(\"Zayif\")\n",
    "                elif bilgiler[i][4] < 25:\n",
    "                    bilgiler[i].append(\"Normal Kilolu\")\n",
    "                elif bilgiler[i][4] < 30:\n",
    "                    bilgiler[i].append(\"Fazla Kilolu\")\n",
    "                elif bilgiler[i][4] < 40:\n",
    "                    bilgiler[i].append(\"Obez\")\n",
    "                else:\n",
    "                    bilgiler[i].append(\"Morbid Obez\")\n",
    "            break\n",
    "        except IndexError:\n",
    "            print(\"Degerleri tekrar giriniz. Kullanici bilgilerini girerken formata dikkat edin.\")\n",
    "    return bilgiler"
   ]
  },
  {
   "cell_type": "code",
   "execution_count": 11,
   "metadata": {},
   "outputs": [],
   "source": [
    "def calistir():\n",
    "    bilgiler = siniflandir()\n",
    "    with open(\"liste.txt\", \"w\",encoding=\"utf-8\") as dosya:\n",
    "        for i in range(len(bilgiler)):\n",
    "            dosya.write(f\"Isim-Soyisim:{bilgiler[i][0]}, Yas:{bilgiler[i][1]}, Boy:{bilgiler[i][2]}, \")\n",
    "            dosya.write(f\"Kilo:{bilgiler[i][3]}, VKİ:{bilgiler[i][4]}, Sınıf: {bilgiler[i][5]} \\n\")\n",
    "            \n",
    "        "
   ]
  },
  {
   "cell_type": "code",
   "execution_count": 14,
   "metadata": {},
   "outputs": [
    {
     "name": "stdin",
     "output_type": "stream",
     "text": [
      "Kac giris yapacaksiniz? fs\n"
     ]
    },
    {
     "name": "stdout",
     "output_type": "stream",
     "text": [
      "Lutfen tam sayi giriniz!\n"
     ]
    },
    {
     "name": "stdin",
     "output_type": "stream",
     "text": [
      "Kac giris yapacaksiniz? gsd\n"
     ]
    },
    {
     "name": "stdout",
     "output_type": "stream",
     "text": [
      "Lutfen tam sayi giriniz!\n"
     ]
    },
    {
     "name": "stdin",
     "output_type": "stream",
     "text": [
      "Kac giris yapacaksiniz? 3\n"
     ]
    },
    {
     "name": "stdout",
     "output_type": "stream",
     "text": [
      "Dogru giris yaptiniz.\n"
     ]
    },
    {
     "name": "stdin",
     "output_type": "stream",
     "text": [
      "Sirasiyla isim-soyisim, yas, boy(cm), kilo(kg) bilgilerini arasına '-' koyarak giriniz: mustafa-23-193-93\n",
      "Sirasiyla isim-soyisim, yas, boy(cm), kilo(kg) bilgilerini arasına '-' koyarak giriniz: fagds\n",
      "Sirasiyla isim-soyisim, yas, boy(cm), kilo(kg) bilgilerini arasına '-' koyarak giriniz: sdg\n"
     ]
    },
    {
     "name": "stdout",
     "output_type": "stream",
     "text": [
      "Degerleri tekrar giriniz. Kullanici bilgilerini girerken formata dikkat edin.\n"
     ]
    },
    {
     "name": "stdin",
     "output_type": "stream",
     "text": [
      "Kac giris yapacaksiniz? 3\n"
     ]
    },
    {
     "name": "stdout",
     "output_type": "stream",
     "text": [
      "Dogru giris yaptiniz.\n"
     ]
    },
    {
     "name": "stdin",
     "output_type": "stream",
     "text": [
      "Sirasiyla isim-soyisim, yas, boy(cm), kilo(kg) bilgilerini arasına '-' koyarak giriniz: mustafa-23-193-93\n",
      "Sirasiyla isim-soyisim, yas, boy(cm), kilo(kg) bilgilerini arasına '-' koyarak giriniz: mustafa-23-193-93\n",
      "Sirasiyla isim-soyisim, yas, boy(cm), kilo(kg) bilgilerini arasına '-' koyarak giriniz: mustafa-23-193-93\n"
     ]
    }
   ],
   "source": [
    "calistir()"
   ]
  },
  {
   "cell_type": "code",
   "execution_count": null,
   "metadata": {},
   "outputs": [],
   "source": []
  },
  {
   "cell_type": "code",
   "execution_count": null,
   "metadata": {},
   "outputs": [],
   "source": []
  },
  {
   "cell_type": "code",
   "execution_count": null,
   "metadata": {},
   "outputs": [],
   "source": []
  },
  {
   "attachments": {},
   "cell_type": "markdown",
   "metadata": {},
   "source": [
    "# Problem 2\n",
    "**YetBar - Smoothie Bank**\n",
    "---\n",
    "YetBar spor salonunun girişinde bulunan, insansız bir sağlıklı içecek otomatıdır. Kullanıcı çeşitli girdiler smoothie içeceğine koyacağı ürünleri belirleyebilir, fiyat hesaplaması yaptırabilir ya da sadece menüyü görüntüleyebilir.\n",
    "\n",
    "**Projenin Amacı:**\n",
    "\n",
    "*   Birbirini etkileyen ve bir kod içerisinde birden fazla defa başvurulacak fonksiyonların oluşturulup, \"fonksiyonel\" proglamlamak.\n",
    "*   Büyük programları yazarken, yazılımcı olarak yapabileceğimiz hatalardan kaçınmak için kontrol yöntemleri geliştirmek.\n",
    "*   Kullanıcı inputlarını ve yaptığımız hesapları, raporlamak/loglamak amacıyla kaydetmek.\n",
    "\n",
    "**Programdan Beklenen Çıktılar**\n",
    "* Program kullanıcıya temelde 2 farklı işlem yapma imkanı sağlar.\n",
    "> 1. Menüyü görüntüleme\n",
    "> 3. Satın alma\n",
    "* Satın alınan her içecek tarih, fiyat bilgisi ile kaydedilmeli ve her zaman ulaşılabilir olmalıdır.\n",
    "\n",
    "\n"
   ]
  },
  {
   "cell_type": "code",
   "execution_count": 19,
   "metadata": {},
   "outputs": [],
   "source": [
    "# 2.Problemin Çözümünü Buraya Yazınız\n",
    "def menu():\n",
    "    yetbar_menu = {\n",
    "        \"meyveler(a)\": {\n",
    "            \"muz(1)\": 10,\n",
    "            \"cilek(2)\": 12,\n",
    "            \"yaban mersini(3)\": 15,\n",
    "            \"kivi(4)\": 11,\n",
    "            \"ananas(5)\": 13\n",
    "        },\n",
    "        \"proteinler(b)\": {\n",
    "            \"whey protein(1)\": 20,\n",
    "            \"badem ezmesi(2)\": 18,\n",
    "            \"yer fistigi ezmesi(3)\": 17\n",
    "        },\n",
    "        \"sivilar(c)\": {\n",
    "            \"badem sutu(1)\": 8,\n",
    "            \"hindistan cevizi sutu(2)\": 9,\n",
    "            \"su(3)\": 0\n",
    "        },\n",
    "        \"ekstralar(d)\": {\n",
    "            \"chia tohumu(1)\": 5,\n",
    "            \"yulaf(2)\": 4,\n",
    "            \"tarcin(3)\": 2,\n",
    "            \"bal(4)\": 3\n",
    "        }\n",
    "    }\n",
    "\n",
    "    print(\"YETBAR SAGLIKLI ICECEK OTOMATI MENUSU\\n\")\n",
    "\n",
    "    for kategori, urunler in yetbar_menu.items():\n",
    "        print(f\"{kategori.capitalize()}\")\n",
    "        for i, (isim, fiyat) in enumerate(urunler.items(), start=1):\n",
    "            print(f\"  {i}. {isim.title()} - {fiyat}₺\")\n",
    "        print(\"-\" * 40)\n",
    "    return yetbar_menu\n"
   ]
  },
  {
   "cell_type": "code",
   "execution_count": null,
   "metadata": {},
   "outputs": [],
   "source": []
  },
  {
   "cell_type": "code",
   "execution_count": 21,
   "metadata": {},
   "outputs": [
    {
     "name": "stdout",
     "output_type": "stream",
     "text": [
      "YETBAR SAGLIKLI ICECEK OTOMATI MENUSU\n",
      "\n",
      "Meyveler(a)\n",
      "  1. Muz(1) - 10₺\n",
      "  2. Cilek(2) - 12₺\n",
      "  3. Yaban Mersini(3) - 15₺\n",
      "  4. Kivi(4) - 11₺\n",
      "  5. Ananas(5) - 13₺\n",
      "----------------------------------------\n",
      "Proteinler(b)\n",
      "  1. Whey Protein(1) - 20₺\n",
      "  2. Badem Ezmesi(2) - 18₺\n",
      "  3. Yer Fistigi Ezmesi(3) - 17₺\n",
      "----------------------------------------\n",
      "Sivilar(c)\n",
      "  1. Badem Sutu(1) - 8₺\n",
      "  2. Hindistan Cevizi Sutu(2) - 9₺\n",
      "  3. Su(3) - 0₺\n",
      "----------------------------------------\n",
      "Ekstralar(d)\n",
      "  1. Chia Tohumu(1) - 5₺\n",
      "  2. Yulaf(2) - 4₺\n",
      "  3. Tarcin(3) - 2₺\n",
      "  4. Bal(4) - 3₺\n",
      "----------------------------------------\n"
     ]
    },
    {
     "name": "stdin",
     "output_type": "stream",
     "text": [
      "Malzeme secimine gecmek istiyor musunuz?('y' or 'n'):  y\n"
     ]
    },
    {
     "name": "stdout",
     "output_type": "stream",
     "text": [
      "Lütfen menude parantez içindeki değerleri kullanarak seçim yapınız.\n",
      "Örneğin: 'b-2' → badem ezmesi\n"
     ]
    },
    {
     "name": "stdin",
     "output_type": "stream",
     "text": [
      "Seçiminizi yapınız (bitirmek için 'q'):  b-1\n"
     ]
    },
    {
     "name": "stdout",
     "output_type": "stream",
     "text": [
      "whey protein(1) eklendi. Fiyat: 20₺\n"
     ]
    },
    {
     "name": "stdin",
     "output_type": "stream",
     "text": [
      "Seçiminizi yapınız (bitirmek için 'q'):  c-3\n"
     ]
    },
    {
     "name": "stdout",
     "output_type": "stream",
     "text": [
      "su(3) eklendi. Fiyat: 0₺\n"
     ]
    },
    {
     "name": "stdin",
     "output_type": "stream",
     "text": [
      "Seçiminizi yapınız (bitirmek için 'q'):  c-2\n"
     ]
    },
    {
     "name": "stdout",
     "output_type": "stream",
     "text": [
      "hindistan cevizi sutu(2) eklendi. Fiyat: 9₺\n"
     ]
    },
    {
     "name": "stdin",
     "output_type": "stream",
     "text": [
      "Seçiminizi yapınız (bitirmek için 'q'):  q\n"
     ]
    },
    {
     "name": "stdout",
     "output_type": "stream",
     "text": [
      "\n",
      "SEÇİLEN ÜRÜNLER:\n",
      "- whey protein(1) : 20₺\n",
      "- su(3) : 0₺\n",
      "- hindistan cevizi sutu(2) : 9₺\n",
      "Toplam Tutar: 29₺\n",
      "Siparişiniz kaydedildi.\n"
     ]
    }
   ],
   "source": [
    "from datetime import datetime\n",
    "\n",
    "def secim():\n",
    "    menu1 = menu()\n",
    "    yes_no = input(\"Malzeme secimine gecmek istiyor musunuz?('y' or 'n'): \").lower()\n",
    "\n",
    "    if yes_no == \"y\":\n",
    "        print(\"Lütfen menude parantez içindeki değerleri kullanarak seçim yapınız.\")\n",
    "        print(\"Örneğin: 'b-2' → badem ezmesi\")\n",
    "\n",
    "        toplam_fiyat = 0\n",
    "        secilenler = []\n",
    "\n",
    "        while True:\n",
    "            sec = input(\"Seçiminizi yapınız (bitirmek için 'q'): \").lower()\n",
    "            if sec == \"q\":\n",
    "                break\n",
    "            try:\n",
    "                kategori_kodu, urun_index = sec.split(\"-\")\n",
    "                kategori_map = {\n",
    "                    \"a\": \"meyveler(a)\",\n",
    "                    \"b\": \"proteinler(b)\",\n",
    "                    \"c\": \"sivilar(c)\",\n",
    "                    \"d\": \"ekstralar(d)\"\n",
    "                }\n",
    "\n",
    "                kategori_adi = kategori_map.get(kategori_kodu)\n",
    "                if kategori_adi:\n",
    "                    urunler = list(menu1[kategori_adi].items())\n",
    "                    index = int(urun_index) - 1\n",
    "                    urun_adi, fiyat = urunler[index]\n",
    "                    secilenler.append((urun_adi, fiyat))\n",
    "                    toplam_fiyat += fiyat\n",
    "                    print(f\"{urun_adi} eklendi. Fiyat: {fiyat}₺\")\n",
    "                else:\n",
    "                    print(\"Geçersiz kategori kodu.\")\n",
    "            except (ValueError, IndexError):\n",
    "                print(\"Hatalı giriş yaptınız. Tekrar deneyin.\")\n",
    "\n",
    "        print(\"\\nSEÇİLEN ÜRÜNLER:\")\n",
    "        for urun, fiyat in secilenler:\n",
    "            print(f\"- {urun} : {fiyat}₺\")\n",
    "        print(f\"Toplam Tutar: {toplam_fiyat}₺\")\n",
    "        \n",
    "        zaman = datetime.now().strftime(\"%Y-%m-%d %H:%M:%S\")\n",
    "        with open(\"siparis_log.txt\", \"a\", encoding=\"utf-8\") as f:\n",
    "            f.write(f\"Tarih: {zaman} | Ürünler: {', '.join([u for u, _ in secilenler])} | Toplam: {toplam_fiyat}₺\\n\")\n",
    "        print(\"Siparişiniz kaydedildi.\")\n",
    "\n",
    "    elif yes_no == \"n\":\n",
    "        print(\"Menü sadece görüntülendi. Çıkılıyor.\")\n",
    "    else:\n",
    "        print(\"Geçersiz giriş.\")\n",
    "\n",
    "secim()\n"
   ]
  },
  {
   "cell_type": "code",
   "execution_count": null,
   "metadata": {},
   "outputs": [],
   "source": []
  }
 ],
 "metadata": {
  "kernelspec": {
   "display_name": "Python 3 (ipykernel)",
   "language": "python",
   "name": "python3"
  },
  "language_info": {
   "codemirror_mode": {
    "name": "ipython",
    "version": 3
   },
   "file_extension": ".py",
   "mimetype": "text/x-python",
   "name": "python",
   "nbconvert_exporter": "python",
   "pygments_lexer": "ipython3",
   "version": "3.12.7"
  },
  "vscode": {
   "interpreter": {
    "hash": "5026d2d6e7aaaaba093def813beadff083d8733e4a511af01735cbabd156995d"
   }
  }
 },
 "nbformat": 4,
 "nbformat_minor": 4
}
