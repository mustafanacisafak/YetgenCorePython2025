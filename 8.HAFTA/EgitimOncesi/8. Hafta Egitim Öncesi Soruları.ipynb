{
 "cells": [
  {
   "cell_type": "markdown",
   "metadata": {
    "id": "Pzh44PAE5H61"
   },
   "source": [
    "# Problem 1 \n",
    "Kullanıcıdan aldığı ürün bilgisini (ad, fiyat) urunler.txt dosyasına kayıt eden fonksiyonu yazınız."
   ]
  },
  {
   "cell_type": "code",
   "execution_count": null,
   "metadata": {
    "id": "uKw3Wap95H64"
   },
   "outputs": [],
   "source": [
    "# 1.Problemin Çözümünü Buraya Yazınız\n",
    "def urun_kaydet():\n",
    "    ad = input(\"Urun adini girin: \")\n",
    "    fiyat = input(\"Urun fiyatini girin: \")\n",
    "\n",
    "    with open(\"urunler.txt\", \"a\", encoding=\"utf-8\") as dosya:\n",
    "        dosya.write(f\"{ad}, {fiyat}\\n\")\n",
    "\n",
    "    print(\"Urun kaydedildi.\")\n"
   ]
  },
  {
   "cell_type": "markdown",
   "metadata": {
    "id": "Lw7xy19D5H66"
   },
   "source": [
    "# Problem 2\n",
    "1.problemde oluşturulan text dosyası içerisinde kullanıcıdan alacağımız eski kelime isimli değişkene atadığımız \n",
    "ve değiştirilmesini istediğimiz kelimemizi yerini alıcak olan yeni kelime isimli değişkene atayın. Belirlenen kelimeleri text dosyasında değiştiren fonksiyonu yazınız."
   ]
  },
  {
   "cell_type": "code",
   "execution_count": 2,
   "metadata": {
    "id": "jDlym3ko5H66"
   },
   "outputs": [
    {
     "name": "stdin",
     "output_type": "stream",
     "text": [
      "Kelimeyi girin:  ali\n",
      "Yeni kelimeyi girin:  veli\n"
     ]
    },
    {
     "name": "stdout",
     "output_type": "stream",
     "text": [
      "Dosya bulunamadi.\n"
     ]
    }
   ],
   "source": [
    "# 2.Problemin Çözümünü Buraya Yazınız\n",
    "def kelime_degistirici():\n",
    "    eski_kelime = input(\"Kelimeyi girin: \")\n",
    "    yeni_kelime = input(\"Yeni kelimeyi girin: \")\n",
    "\n",
    "    try:\n",
    "        with open(\"urunler.txt\", \"r\", encoding=\"utf-8\") as dosya:\n",
    "            icerik = dosya.read()\n",
    "\n",
    "        yeni_icerik = icerik.replace(eski_kelime, yeni_kelime)\n",
    "\n",
    "        with open(\"urunler.txt\", \"w\", encoding=\"utf-8\") as dosya:\n",
    "            dosya.write(yeni_icerik)\n",
    "\n",
    "        print(\"Kelime basariyla degistirildi.\")\n",
    "\n",
    "    except FileNotFoundError:\n",
    "        print(\"Dosya bulunamadi.\")\n",
    "\n",
    "kelime_degistirici()\n"
   ]
  },
  {
   "cell_type": "code",
   "execution_count": null,
   "metadata": {},
   "outputs": [],
   "source": []
  },
  {
   "cell_type": "code",
   "execution_count": null,
   "metadata": {},
   "outputs": [],
   "source": []
  },
  {
   "cell_type": "markdown",
   "metadata": {
    "id": "3aSYk4FF5H67"
   },
   "source": [
    "# Problem 3\n",
    "Vehicle sınıfının tüm değişkenlerini ve yöntemlerini devralacak bir alt sınıf olarak Bus sınıfı oluşturunuz.\n",
    "\n",
    "\n",
    "\n",
    "```\n",
    "Output\n",
    "> Name: School Volvo Speed: 180 Mileage: 12\n",
    "```\n"
   ]
  },
  {
   "cell_type": "code",
   "execution_count": 4,
   "metadata": {
    "id": "PwCI6Xkb5H68"
   },
   "outputs": [
    {
     "name": "stdout",
     "output_type": "stream",
     "text": [
      "Name: School Volvo Speed: 180 Mileage: 12\n"
     ]
    }
   ],
   "source": [
    "# 3.Problemin Çözümünü Buraya Yazınız\n",
    "\n",
    "class Vehicle:\n",
    "    def __init__(self, name, speed, mileage):\n",
    "        self.name = name\n",
    "        self.speed = speed\n",
    "        self.mileage = mileage\n",
    "\n",
    "    def show_info(self):\n",
    "        print(f\"Name: {self.name} Speed: {self.speed} Mileage: {self.mileage}\")\n",
    "\n",
    "class Bus(Vehicle):\n",
    "    pass\n",
    "\n",
    "school_bus = Bus(\"School Volvo\", 180, 12)\n",
    "school_bus.show_info()\n",
    "\n"
   ]
  },
  {
   "cell_type": "code",
   "execution_count": null,
   "metadata": {},
   "outputs": [],
   "source": []
  },
  {
   "cell_type": "code",
   "execution_count": null,
   "metadata": {},
   "outputs": [],
   "source": []
  }
 ],
 "metadata": {
  "colab": {
   "provenance": []
  },
  "kernelspec": {
   "display_name": "Python 3 (ipykernel)",
   "language": "python",
   "name": "python3"
  },
  "language_info": {
   "codemirror_mode": {
    "name": "ipython",
    "version": 3
   },
   "file_extension": ".py",
   "mimetype": "text/x-python",
   "name": "python",
   "nbconvert_exporter": "python",
   "pygments_lexer": "ipython3",
   "version": "3.12.7"
  },
  "vscode": {
   "interpreter": {
    "hash": "5026d2d6e7aaaaba093def813beadff083d8733e4a511af01735cbabd156995d"
   }
  }
 },
 "nbformat": 4,
 "nbformat_minor": 4
}
