{
 "cells": [
  {
   "attachments": {},
   "cell_type": "markdown",
   "metadata": {},
   "source": [
    "# Problem 1\n",
    "\n",
    "Kumanda isminde bir sınıf oluşturarak aşağıdaki işlemleri yapmasını sağlayan fonksiyonları sınıf içerisinde yazalım.\n",
    "1. Tv Aç\n",
    "2. Tv Kapat\n",
    "3. Ses Ayarları\n",
    "4. Kanal Ekle\n",
    "5. Kanal Sayısını Öğrenme\n",
    "6. Rastgele Kanala Geçme\n",
    "7. Televizyon Bilgileri\n",
    "\n",
    "\n",
    "Kumandayı kapatmak için q tuşuna basılmalı ve diğer durumlarda hangi işlemi yapmak istediği sorulmalıdır. Her işlemde gerekli fonksiyonunun sınıf içerisinden çağırılması gerekmektedir.\n",
    "\n",
    "random ve time kütüphanesini araştırarak kullanabilirsiniz.\n",
    "\n",
    "Kendi istediğiniz özellikleri eklemekte serbetsiniz."
   ]
  },
  {
   "cell_type": "code",
   "execution_count": 8,
   "metadata": {},
   "outputs": [
    {
     "name": "stdout",
     "output_type": "stream",
     "text": [
      "TV açıldı.\n",
      "Ses seviyesi 13 olarak arttırıldı.\n",
      "Yeni Kanal kanalı eklendi.\n",
      "Toplam kanal sayısı: 15\n",
      "Rastgele kanal seçildi: Kanal D\n",
      "Toplam kanal sayısı: 15\n",
      "Şu an Kanal D kanalındasınız.\n",
      "22/04/2025 19:33\n"
     ]
    }
   ],
   "source": [
    "# 1.Problemin Çözümünü Buraya Yazınız\n",
    "import random\n",
    "import datetime\n",
    "\n",
    "class Kumanda:\n",
    "    def __init__(self):\n",
    "        self.tv_on = False\n",
    "        self.volume = 12\n",
    "        self.kanallar = {\n",
    "            \"Kanal1\": \"Belgesel TV\",\n",
    "            \"Kanal2\": \"Show TV\",\n",
    "            \"Kanal3\": \"Kanal D\",\n",
    "            \"Kanal4\": \"Star TV\",\n",
    "            \"Kanal5\": \"Fox TV\",\n",
    "            \"Kanal6\": \"TV8\",\n",
    "            \"Kanal7\": \"CNN Türk\",\n",
    "            \"Kanal8\": \"Beyaz TV\",\n",
    "            \"Kanal9\": \"Halk TV\",\n",
    "            \"Kanal10\": \"KRT TV\",\n",
    "            \"Kanal11\": \"Bloomberg HT\",\n",
    "            \"Kanal12\": \"360 TV\",\n",
    "            \"Kanal13\": \"TLC\",\n",
    "            \"Kanal14\": \"Nickelodeon\"\n",
    "        }\n",
    "        self.channel_list = list(self.kanallar.items())\n",
    "        self.current_channel = self.channel_list[0]\n",
    "\n",
    "    def tv_ac(self):\n",
    "        if self.tv_on:\n",
    "            print(\"TV zaten açık.\")\n",
    "        else:\n",
    "            self.tv_on = True\n",
    "            print(\"TV açıldı.\")\n",
    "\n",
    "    def tv_kapa(self):\n",
    "        self.tv_on = False\n",
    "        print(\"TV kapandı.\")\n",
    "\n",
    "    def ses_artir(self):\n",
    "        self.volume += 1\n",
    "        print(f\"Ses seviyesi {self.volume} olarak arttırıldı.\")\n",
    "\n",
    "    def ses_azalt(self):\n",
    "        self.volume -= 1\n",
    "        print(f\"Ses seviyesi {self.volume} olarak azaltıldı.\")\n",
    "\n",
    "    def ses_kapa(self):\n",
    "        self.volume = 0\n",
    "        print(\"Ses kapalı.\")\n",
    "\n",
    "    def ses_ac(self):\n",
    "        self.volume = 12\n",
    "        print(\"Ses seviyesi 12 olarak ayarlandı.\")\n",
    "\n",
    "    def kanal_ekle(self, channel):\n",
    "        self.kanallar[f\"Kanal{len(self.kanallar)+1}\"] = channel\n",
    "        print(f\"{channel} kanalı eklendi.\")\n",
    "\n",
    "    def kanal_sayisi(self):\n",
    "        print(f\"Toplam kanal sayısı: {len(self.kanallar)}\")\n",
    "\n",
    "    def random_channel(self):\n",
    "        channels = list(self.kanallar.items())\n",
    "        self.current_channel = channels[random.randint(0, len(channels)-1)]\n",
    "        print(f\"Rastgele kanal seçildi: {self.current_channel[1]}\")\n",
    "\n",
    "    def info_tv(self):\n",
    "        şimdi = datetime.datetime.now()\n",
    "        print(f\"Toplam kanal sayısı: {len(self.kanallar)}\")\n",
    "        print(f\"Şu an {self.current_channel[1]} kanalındasınız.\")\n",
    "        print(şimdi.strftime(\"%d/%m/%Y %H:%M\"))\n",
    "\n",
    "kumanda = Kumanda()\n",
    "\n",
    "kumanda.tv_ac()\n",
    "kumanda.ses_artir()\n",
    "kumanda.kanal_ekle(\"Yeni Kanal\")\n",
    "kumanda.kanal_sayisi()\n",
    "kumanda.random_channel()\n",
    "kumanda.info_tv()\n",
    "      \n",
    "    \n",
    "        \n",
    "        "
   ]
  },
  {
   "cell_type": "code",
   "execution_count": null,
   "metadata": {},
   "outputs": [],
   "source": []
  },
  {
   "cell_type": "code",
   "execution_count": null,
   "metadata": {},
   "outputs": [],
   "source": []
  }
 ],
 "metadata": {
  "kernelspec": {
   "display_name": "Python 3 (ipykernel)",
   "language": "python",
   "name": "python3"
  },
  "language_info": {
   "codemirror_mode": {
    "name": "ipython",
    "version": 3
   },
   "file_extension": ".py",
   "mimetype": "text/x-python",
   "name": "python",
   "nbconvert_exporter": "python",
   "pygments_lexer": "ipython3",
   "version": "3.12.7"
  },
  "vscode": {
   "interpreter": {
    "hash": "5026d2d6e7aaaaba093def813beadff083d8733e4a511af01735cbabd156995d"
   }
  }
 },
 "nbformat": 4,
 "nbformat_minor": 4
}
