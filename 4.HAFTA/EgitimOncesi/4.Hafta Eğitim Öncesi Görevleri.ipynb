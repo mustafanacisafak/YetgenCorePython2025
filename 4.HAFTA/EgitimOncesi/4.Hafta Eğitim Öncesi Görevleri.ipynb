{
 "cells": [
  {
   "cell_type": "markdown",
   "metadata": {
    "id": "-My6RWLrhXIq"
   },
   "source": [
    "# Problem 1\n",
    "Sözlükleri kullanarak bir telefon rehberi yazın. Bu rehberde kullanıcıya kimin telefonunu görüntülemek istediğini sorun ve kullanıcının girdiği isme göre o kişinin telefon numarasını yazdırın. Proje sonunda elde edeceğiniz çıktı  şuna benzer olmalı:\n",
    "\n",
    "\n",
    "Lütfen numarasını öğrenmek istediğiniz kişinin adını girin: Ahmet\n",
    "\n",
    "Ahmet isimli kişinin numarası şu şekildedir: 0532 678 13 19"
   ]
  },
  {
   "cell_type": "code",
   "execution_count": 5,
   "metadata": {
    "id": "LHIQEhchhXIu"
   },
   "outputs": [
    {
     "name": "stdin",
     "output_type": "stream",
     "text": [
      "Lutfen numarasini ogrenmek istediginiz kisinin adini girin: Ahmet\n"
     ]
    },
    {
     "name": "stdout",
     "output_type": "stream",
     "text": [
      "Ahmet isimli kisinin numarasi su sekildedir: 0 532 678 13 19\n"
     ]
    }
   ],
   "source": [
    "# 1.Problemin Çözümünü Buraya Yazınız\n",
    "rehber = {\"Ahmet\": \"0 532 678 13 19\",\n",
    "         \"Mehmet\": \"0 555 000 50 50\",\n",
    "         \"Can\": \" 0 501 022 0303\"}\n",
    "isim = input(\"Lutfen numarasini ogrenmek istediginiz kisinin adini girin:\")\n",
    "print(f\"{isim} isimli kisinin numarasi su sekildedir: {rehber[isim]}\")"
   ]
  },
  {
   "cell_type": "markdown",
   "metadata": {
    "id": "rlgfjEi7hXIv"
   },
   "source": [
    "# Problem 2\n",
    "Sözlükleri kullanarak bir şirket çalışanları indeksi oluşturun. Bu isim indeksinde kişilerin isimleri key, kişilerin  memleket, yaş ve görev bilgileri value olmalıdır. Burada kullanacağımız value değerleri liste olmalıdır.\n",
    "\n",
    "\n",
    "Daha sonra bir isim sorgulama ekranı gibi kullanıcıya kimin bilgilerini görüntülemek istediğini \n",
    "sorun ve sorgulanan kişinin ekranda gösterilmesini sağlayın. Proje sonunda elde edeceğiniz çıktı şu şekilde olmalı:\n",
    "\n",
    "\n",
    "Lütfen bilgilerini görüntülemek istediğiniz çalışanın ismini girin: Mehmet Yağız\n",
    "\n",
    "Mehmet Yağız= Memleket: Adana Yaş: 40 Görev: Direktör"
   ]
  },
  {
   "cell_type": "code",
   "execution_count": 8,
   "metadata": {
    "id": "O09zrrs0hXIv"
   },
   "outputs": [
    {
     "name": "stdin",
     "output_type": "stream",
     "text": [
      "Lütfen bilgilerini görüntülemek istediğiniz çalışanın ismini girin:  Ali Can\n"
     ]
    },
    {
     "name": "stdout",
     "output_type": "stream",
     "text": [
      "Ali Can= Memleket: Istanbul Yaş: 50 Görev: Danisman\n"
     ]
    }
   ],
   "source": [
    "# 2.Problemin Çözümünü Buraya Yazınız\n",
    "sirket = {\n",
    "    \"Mehmet Yağız\": [\"Adana\", 40, \"Direktör\"],\n",
    "    \"Ali Can\": [\"Istanbul\", 50, \"Danisman\"],\n",
    "    \"Veli Can\": [\"Ankara\", 30, \"CEO\"]\n",
    "}\n",
    "\n",
    "isim = input(\"Lütfen bilgilerini görüntülemek istediğiniz çalışanın ismini girin: \")\n",
    "memleket, yas, gorev = sirket[isim]\n",
    "print(f\"{isim}= Memleket: {memleket} Yaş: {yas} Görev: {gorev}\")\n"
   ]
  },
  {
   "cell_type": "markdown",
   "metadata": {
    "id": "G67ztXG-hXIw"
   },
   "source": [
    "# Problem 3\n",
    "\n",
    "3 öğrenciden oluşan bir öğrenci not sözlüğü oluşturun. Bu sözlükte öğrencilerin notları value olarak bir listede toplansın.\n",
    "\n",
    "Kullanıcıya hangi öğrencinin notlarını görmek istediğini sorun. Öğrencinin notu görüntülendiğinde program sonunda şöyle bir çıktı elde etmelisiniz:\n",
    "\n",
    "```\n",
    "Lütfen notlarını görmek istediğiniz öğrencinin adını girin: Mehmet\n",
    "\n",
    "Mehmet isimli öğrencinin      1.Sınav Notu:72\n",
    "                              2.Sınav Notu:66\n",
    "                              3.Sınav Notu:48\n",
    "Not Ortalaması: 62.0\n"
   ]
  },
  {
   "cell_type": "code",
   "execution_count": 16,
   "metadata": {
    "id": "TXQ_fuCHhXIw"
   },
   "outputs": [
    {
     "name": "stdin",
     "output_type": "stream",
     "text": [
      "Lütfen notlarını görmek istediğiniz öğrencinin adını girin:  Zeynep\n"
     ]
    },
    {
     "name": "stdout",
     "output_type": "stream",
     "text": [
      "Zeynep isimli öğrencinin\n",
      "1.Sınav Notu:80\n",
      "2.Sınav Notu:90\n",
      "3.Sınav Notu:100\n",
      "Not Ortalaması: 90.0\n"
     ]
    }
   ],
   "source": [
    "# 3.Problemin Çözümünü Buraya Yazınız\n",
    "ogrenci_notlari = {\n",
    "    \"Mehmet\": [72, 66, 48],\n",
    "    \"Ali\": [90, 90, 100],\n",
    "    \"Zeynep\": [80, 90, 100]\n",
    "}\n",
    "\n",
    "ogrenci_adi = input(\"Lütfen notlarını görmek istediğiniz öğrencinin adını girin: \")\n",
    "notlar = ogrenci_notlari[ogrenci_adi]\n",
    "print(f\"{ogrenci_adi} isimli öğrencinin\")\n",
    "print(f\"1.Sınav Notu:{notlar[0]}\")\n",
    "print(f\"2.Sınav Notu:{notlar[1]}\")\n",
    "print(f\"3.Sınav Notu:{notlar[2]}\")\n",
    "ortalama = sum(notlar) / len(notlar)\n",
    "print(f\"Not Ortalaması: {ortalama:.1f}\")\n",
    "   "
   ]
  },
  {
   "cell_type": "code",
   "execution_count": null,
   "metadata": {},
   "outputs": [],
   "source": []
  },
  {
   "cell_type": "code",
   "execution_count": null,
   "metadata": {},
   "outputs": [],
   "source": []
  },
  {
   "cell_type": "code",
   "execution_count": null,
   "metadata": {},
   "outputs": [],
   "source": []
  },
  {
   "cell_type": "code",
   "execution_count": null,
   "metadata": {},
   "outputs": [],
   "source": []
  },
  {
   "cell_type": "markdown",
   "metadata": {
    "id": "oel6A5WFhXIw"
   },
   "source": [
    "# Problem 4"
   ]
  },
  {
   "cell_type": "code",
   "execution_count": null,
   "metadata": {
    "id": "jVRdspCrhXIx"
   },
   "outputs": [
    {
     "name": "stdout",
     "output_type": "stream",
     "text": [
      "4\n",
      "Bmw\n",
      "Mazda\n",
      "['Bmw', 'Mercedes', 'Opel', 'Toyota']\n",
      "Opel\n",
      "['Bmw', 'Mercedes', 'Opel']\n",
      "['Bmw', 'Mercedes', 'Toyota', 'Renault']\n",
      "['Bmw', 'Mercedes', 'Toyota', 'Renault', 'Audi', 'Nissan']\n",
      "['Bmw', 'Mercedes', 'Toyota', 'Renault', 'Audi']\n",
      "['Audi', 'Renault', 'Toyota', 'Mercedes', 'Bmw']\n",
      "('Yiğit Bilgi', 2010, (70, 60, 70))\n",
      "('Sena Turan', 1999, (80, 80, 70))\n",
      "('Ahmet Turan', 1998, (80, 70, 90))\n",
      "['Sena', 'Ali', 'Yağmur', 'Hakan', 'Cenk']\n",
      "True\n",
      "['Chevrolet', 'Dacia']\n",
      "2\n"
     ]
    }
   ],
   "source": [
    "# 1-  \"Bmw, Mercedes, Opel, Mazda\" elemanlarına sahip bir liste oluşturunuz.\n",
    "list1 = [\"Bmw\", \"Mercedes\", \"Opel\", \"Mazda\"]\n",
    "\n",
    "# 2-  Liste Kaç elemanlıdır ?\n",
    "print(len(list1))\n",
    "\n",
    "# 3-  Listenin ilk ve son elemanı nedir ?\n",
    "print(list1[0])\n",
    "print(list1[-1])\n",
    "\n",
    "# 4-  Mazda değerini Toyota ile değiştirin.\n",
    "list1[list1.index(\"Mazda\")] = \"Toyota\"\n",
    "print(list1)\n",
    "\n",
    "# 5-  Listenin -2 indeksindeki değer nedir ?\n",
    "print(list1[-2])\n",
    "\n",
    "# 6-  Listenin ilk 3 elemanını alın.\n",
    "print(list1[:3])\n",
    "\n",
    "# 7-  Listenin son 2 elemanı yerine \"Toyota\" ve \"Renault\" değerlerini ekleyin.\n",
    "list1[-2:] = \"Toyota\", \"Renault\"\n",
    "print(list1)\n",
    "\n",
    "# 8-  Listenin üzerine \"Audi\" ve \"Nissan\" değerlerini ekleyin.\n",
    "list1.extend([\"Audi\", \"Nissan\"])\n",
    "print(list1)\n",
    "\n",
    "# 9- Listenin son elemanını silin.\n",
    "list1.pop()\n",
    "print(list1)\n",
    "\n",
    "# 10- Liste elemanlarını tersten yazdırınız.\n",
    "print(list1[::-1])\n",
    "\n",
    "# 11- Aşağıdaki verileri bir liste içinde saklayınız. \n",
    "\n",
    "      # studentA: Yiğit Bilgi 2010, (70,60,70)\n",
    "      # studentB: Sena Turan  1999, (80,80,70)\n",
    "      # studentC: Ahmet Turan 1998, (80,70,90) \n",
    "students = [\n",
    "    (\"Yiğit Bilgi\", 2010, (70, 60, 70)),\n",
    "    (\"Sena Turan\", 1999, (80, 80, 70)),\n",
    "    (\"Ahmet Turan\", 1998, (80, 70, 90))\n",
    "]\n",
    "\n",
    "# 12- Liste elemanlarını ekrana yazdırınız.\n",
    "for student in students:\n",
    "    print(student)\n",
    "\n",
    "\n",
    "  \n",
    "names = ['Ali','Yağmur','Hakan','Deniz']\n",
    "years = [1998, 2000, 1998, 1987]\n",
    "\n",
    "# 13-  \"Cenk\" ismini listenin sonuna ekleyiniz.\n",
    "names.append(\"Cenk\")\n",
    "\n",
    "\n",
    "# 14-  \"Sena\" değerini listenin başına ekleyiniz.\n",
    "\n",
    "names.insert(0,\"Sena\")\n",
    "\n",
    "# 15-  \"Deniz\" ismini listeden siliniz.\n",
    "names.remove(\"Deniz\")\n",
    "print(names)\n",
    "\n",
    "# 16-  \"Ali\" listenin bir elemanı mıdır ?\n",
    "print(\"Ali\" in names)\n",
    "\n",
    "# 17-  Liste elemanlarını ters çevirin.\n",
    "names.reverse()\n",
    "\n",
    "# 18-  Liste elemanlarını alfabetik olarak sıralayınız.\n",
    "names.sort()\n",
    "\n",
    "# 19-  years listesini rakamsal büyüklüğe göre sıralayınız.\n",
    "years.sort()\n",
    "\n",
    "# 20-  str = \"Chevrolet,Dacia\" karakter dizisini listeye çeviriniz.\n",
    "str1 = \"Chevrolet,Dacia\"\n",
    "marka = str1.split(\",\")\n",
    "print(marka)\n",
    "\n",
    "# 21- years dizisinde kaç tane 1998 değeri vardır ?\n",
    "print(years.count(1998))\n",
    "\n",
    "# 22- years dizisinin tüm elemanlarını siliniz.\n",
    "years.clear()\n",
    "\n",
    "\n",
    "# 23- Kullanıcıdan alacağınız 3 tane marka bilgisini bir listede saklayınız.\n",
    "\n",
    "brand1 = input(\"Birinci markayı girin: \")\n",
    "brand2 = input(\"İkinci markayı girin: \")\n",
    "brand3 = input(\"Üçüncü markayı girin: \")\n",
    "brands = [brand1, brand2, brand3]\n",
    "print(brands) \n"
   ]
  },
  {
   "cell_type": "code",
   "execution_count": null,
   "metadata": {},
   "outputs": [],
   "source": []
  }
 ],
 "metadata": {
  "colab": {
   "provenance": []
  },
  "kernelspec": {
   "display_name": "Python 3 (ipykernel)",
   "language": "python",
   "name": "python3"
  },
  "language_info": {
   "codemirror_mode": {
    "name": "ipython",
    "version": 3
   },
   "file_extension": ".py",
   "mimetype": "text/x-python",
   "name": "python",
   "nbconvert_exporter": "python",
   "pygments_lexer": "ipython3",
   "version": "3.11.7"
  },
  "vscode": {
   "interpreter": {
    "hash": "5026d2d6e7aaaaba093def813beadff083d8733e4a511af01735cbabd156995d"
   }
  }
 },
 "nbformat": 4,
 "nbformat_minor": 4
}
