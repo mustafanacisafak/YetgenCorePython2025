{
 "cells": [
  {
   "cell_type": "markdown",
   "metadata": {
    "id": "iynMkzK2ozgo"
   },
   "source": [
    "# Problem 1\n",
    "Kullanıcıdan bir sayı alınız. Sayı 0'dan büyükse pozitif , 0'dan küçükse negatif sıfıra eşitse sıfır yazdırınız."
   ]
  },
  {
   "cell_type": "code",
   "execution_count": 3,
   "metadata": {
    "id": "Y5eMYyiOozgw"
   },
   "outputs": [
    {
     "name": "stdin",
     "output_type": "stream",
     "text": [
      "Enter a number: -3\n"
     ]
    },
    {
     "name": "stdout",
     "output_type": "stream",
     "text": [
      "negatif\n"
     ]
    }
   ],
   "source": [
    "# 1.Problemin Çözümünü Buraya Yazınız\n",
    "number = float(input(\"Enter a number:\"))\n",
    "if number > 0:\n",
    "    print(\"pozitif\")\n",
    "elif number < 0:\n",
    "    print(\"negatif\")\n",
    "else:\n",
    "    print(\"sıfır\")"
   ]
  },
  {
   "cell_type": "markdown",
   "metadata": {
    "id": "gUrFd7pgozgz"
   },
   "source": [
    " # Problem 2\n",
    "Kullanıcıdan aldığınız bir sayının mükemmel olup olmadığını bulmaya çalışın.\n",
    "Bir sayının kendi hariç bölenlerinin toplamı kendine eşitse bu sayıya \"mükemmel sayı\" denir. Örnek olarak, 6 mükemmel bir sayıdır. (1 + 2 + 3 = 6)\n"
   ]
  },
  {
   "cell_type": "code",
   "execution_count": 12,
   "metadata": {
    "id": "Oc8lAzLaozg0"
   },
   "outputs": [
    {
     "name": "stdin",
     "output_type": "stream",
     "text": [
      "Enter a number: 7\n"
     ]
    },
    {
     "name": "stdout",
     "output_type": "stream",
     "text": [
      "It is not a perfect number\n"
     ]
    }
   ],
   "source": [
    "# 2.Problemin Çözümünü Buraya Yazınız\n",
    "\n",
    "number = int(input(\"Enter a number:\"))\n",
    "is_perfect = 0\n",
    "for i in range(1,number):\n",
    "    if number % i ==0:\n",
    "        is_perfect +=i\n",
    "\n",
    "if int(number) == is_perfect:\n",
    "    print(\"It is a perfect number\")\n",
    "else:\n",
    "    print(\"It is not a perfect number\")\n",
    "    \n",
    "\n",
    "    \n",
    "        \n"
   ]
  },
  {
   "cell_type": "markdown",
   "metadata": {
    "id": "wU080UMcozg1"
   },
   "source": [
    " # Problem 3\n",
    "Kullanıcıdan aldığınız bir sayının \"Armstrong\" sayısı olup olmadığını bulmaya çalışın.\n",
    "Örnek olarak, Bir sayı eğer 4 basamaklı ise ve oluşturan rakamlardan herbirinin 4. kuvvetinin toplamı( 3 basamaklı sayılar için 3.kuvveti ) o sayıya eşitse bu sayıya \"Armstrong\" sayısı denir.\n",
    "\n",
    "Örnek olarak : 1634 = 1^4 + 6^4 + 3^4 + 4^4"
   ]
  },
  {
   "cell_type": "code",
   "execution_count": 2,
   "metadata": {
    "id": "NF529iKaozg3"
   },
   "outputs": [
    {
     "name": "stdin",
     "output_type": "stream",
     "text": [
      "number: 255\n"
     ]
    },
    {
     "name": "stdout",
     "output_type": "stream",
     "text": [
      "not armstrong\n"
     ]
    }
   ],
   "source": [
    "# 3.Problemin Çözümünü Buraya Yazınız\n",
    "number = input(\"number:\")\n",
    "power = len(number)\n",
    "total = 0\n",
    "for i in number:\n",
    "    total += (int(i))**power\n",
    "\n",
    "if total == int(number):\n",
    "    print(\"armstrong\")\n",
    "else:\n",
    "    print(\"not armstrong\")"
   ]
  },
  {
   "cell_type": "markdown",
   "metadata": {
    "id": "4hSmU3Yoozg4"
   },
   "source": [
    "# Problem 4\n",
    "YetGen Core Python mezunu bir öğretmenimiz öğrencilerine 1'den 10'a kadar sayılarla çarpım tablosunu öğretirken Python'dan destek almak istiyor. Bu konuda öğretmenimize yardımcı olmak ister misin?\n",
    "\n",
    "İpucu: İç içe 2 tane for döngüsü kullanın. \n",
    "\n",
    "Aynı zamanda sayıları range() fonksiyonunu kullanarak elde edin."
   ]
  },
  {
   "cell_type": "code",
   "execution_count": 4,
   "metadata": {
    "id": "WsDvmcXgozg5"
   },
   "outputs": [
    {
     "name": "stdout",
     "output_type": "stream",
     "text": [
      "1x1 = 1\n",
      "1x2 = 2\n",
      "1x3 = 3\n",
      "1x4 = 4\n",
      "1x5 = 5\n",
      "1x6 = 6\n",
      "1x7 = 7\n",
      "1x8 = 8\n",
      "1x9 = 9\n",
      "1x10 = 10\n",
      "---------------------\n",
      "2x1 = 2\n",
      "2x2 = 4\n",
      "2x3 = 6\n",
      "2x4 = 8\n",
      "2x5 = 10\n",
      "2x6 = 12\n",
      "2x7 = 14\n",
      "2x8 = 16\n",
      "2x9 = 18\n",
      "2x10 = 20\n",
      "---------------------\n",
      "3x1 = 3\n",
      "3x2 = 6\n",
      "3x3 = 9\n",
      "3x4 = 12\n",
      "3x5 = 15\n",
      "3x6 = 18\n",
      "3x7 = 21\n",
      "3x8 = 24\n",
      "3x9 = 27\n",
      "3x10 = 30\n",
      "---------------------\n",
      "4x1 = 4\n",
      "4x2 = 8\n",
      "4x3 = 12\n",
      "4x4 = 16\n",
      "4x5 = 20\n",
      "4x6 = 24\n",
      "4x7 = 28\n",
      "4x8 = 32\n",
      "4x9 = 36\n",
      "4x10 = 40\n",
      "---------------------\n",
      "5x1 = 5\n",
      "5x2 = 10\n",
      "5x3 = 15\n",
      "5x4 = 20\n",
      "5x5 = 25\n",
      "5x6 = 30\n",
      "5x7 = 35\n",
      "5x8 = 40\n",
      "5x9 = 45\n",
      "5x10 = 50\n",
      "---------------------\n",
      "6x1 = 6\n",
      "6x2 = 12\n",
      "6x3 = 18\n",
      "6x4 = 24\n",
      "6x5 = 30\n",
      "6x6 = 36\n",
      "6x7 = 42\n",
      "6x8 = 48\n",
      "6x9 = 54\n",
      "6x10 = 60\n",
      "---------------------\n",
      "7x1 = 7\n",
      "7x2 = 14\n",
      "7x3 = 21\n",
      "7x4 = 28\n",
      "7x5 = 35\n",
      "7x6 = 42\n",
      "7x7 = 49\n",
      "7x8 = 56\n",
      "7x9 = 63\n",
      "7x10 = 70\n",
      "---------------------\n",
      "8x1 = 8\n",
      "8x2 = 16\n",
      "8x3 = 24\n",
      "8x4 = 32\n",
      "8x5 = 40\n",
      "8x6 = 48\n",
      "8x7 = 56\n",
      "8x8 = 64\n",
      "8x9 = 72\n",
      "8x10 = 80\n",
      "---------------------\n",
      "9x1 = 9\n",
      "9x2 = 18\n",
      "9x3 = 27\n",
      "9x4 = 36\n",
      "9x5 = 45\n",
      "9x6 = 54\n",
      "9x7 = 63\n",
      "9x8 = 72\n",
      "9x9 = 81\n",
      "9x10 = 90\n",
      "---------------------\n",
      "10x1 = 10\n",
      "10x2 = 20\n",
      "10x3 = 30\n",
      "10x4 = 40\n",
      "10x5 = 50\n",
      "10x6 = 60\n",
      "10x7 = 70\n",
      "10x8 = 80\n",
      "10x9 = 90\n",
      "10x10 = 100\n",
      "---------------------\n"
     ]
    }
   ],
   "source": [
    "# 4.Problemin Çözümünü Buraya Yazınız\n",
    "for i in range(1,11):\n",
    "    for j in range(1,11):\n",
    "        print(f\"{i}x{j} = {i*j}\")\n",
    "    print(\"---------------------\")"
   ]
  },
  {
   "cell_type": "markdown",
   "metadata": {
    "id": "jJpAhNPtozg7"
   },
   "source": [
    "# Problem 5\n",
    "Markete giren bir YetGen'li sıra beklememek için hızlı kasaya gider. Hızlı kasanın çalışma mantığı şu şekildedir:\n",
    "- Kullanıcının aldığı her ürünün fiyatını tek tek girmesi gerekir.\n",
    "- Kullanıcı kasadan çıkmak isterse q tuşuna basmalıdır.\n",
    "- Kasa girilen fiyatları son fiyat isimli değişkene ekler.\n",
    "- Değişkeni ekrana bastırır.\n",
    "\n",
    "İpucu: while döngüsünü sonsuz koşulla başlatın ve kullanıcı q'ya basarsa döngüyü break ile sonlandırın."
   ]
  },
  {
   "cell_type": "code",
   "execution_count": 6,
   "metadata": {
    "id": "Tr4QbmESozg9"
   },
   "outputs": [
    {
     "name": "stdin",
     "output_type": "stream",
     "text": [
      "Enter the value of product: 43\n",
      "Enter the value of product: 54\n",
      "Enter the value of product: 543\n",
      "Enter the value of product: q\n"
     ]
    },
    {
     "name": "stdout",
     "output_type": "stream",
     "text": [
      "640.0\n"
     ]
    }
   ],
   "source": [
    "# 5.Problemin Çözümünü Buraya Yazınız\n",
    "son_fiyat = 0\n",
    "while True:\n",
    "    enter = input(\"Enter the value of product:\")\n",
    "    if enter == 'q':\n",
    "        print(son_fiyat)\n",
    "        break\n",
    "    else:\n",
    "        son_fiyat += float(enter)\n",
    "    "
   ]
  },
  {
   "cell_type": "code",
   "execution_count": null,
   "metadata": {},
   "outputs": [],
   "source": []
  },
  {
   "cell_type": "code",
   "execution_count": null,
   "metadata": {},
   "outputs": [],
   "source": []
  },
  {
   "cell_type": "markdown",
   "metadata": {
    "id": "lqJyFt_Eozg-"
   },
   "source": [
    "# Problem 6\n",
    "1'den 100'e kadar olan sayılardan sadece 3'e bölünen sayıları ekrana bastırın. Bu işlemi continue ile yapmaya çalışın."
   ]
  },
  {
   "cell_type": "code",
   "execution_count": 10,
   "metadata": {
    "id": "0ZVgZqAQozg_"
   },
   "outputs": [
    {
     "name": "stdout",
     "output_type": "stream",
     "text": [
      "[3, 6, 9, 12, 15, 18, 21, 24, 27, 30, 33, 36, 39, 42, 45, 48, 51, 54, 57, 60, 63, 66, 69, 72, 75, 78, 81, 84, 87, 90, 93, 96, 99]\n"
     ]
    }
   ],
   "source": [
    "# 6.Problemin Çözümünü Buraya Yazınız\n",
    "divided_by3 = []\n",
    "for i in range(1,101):\n",
    "    if i%3 != 0:\n",
    "        continue\n",
    "    divided_by3.append(i)\n",
    "\n",
    "print(divided_by3)\n",
    "    "
   ]
  },
  {
   "cell_type": "markdown",
   "metadata": {
    "id": "eA2r49EjozhA"
   },
   "source": [
    "# Problem 7\n",
    "Bir YetGen Core Python mezunu MEF Üniversitesi'nde Bilgisayar Bilimleri Doktora programının mülakatına girmeye hak kazanıyor. Mülakata hazırlanırken internetten soru araştırıyor. Karşısına çıkan ünlü FizzBuzz sorusuna benzer YetGen sorusunda kendisini yeterince hazır hissetmiyor. Bu soruyu çözmesine destek olmak ister misin?\n",
    "\n",
    "Soru aşağıdaki gibidir:\n",
    "\n",
    "1’den 100’e kadar sayıları yazdırıyoruz. Ancak eğer sayı 3’e bölünüyor ise Yet, sayı 5’e bölünüyorsa Gen, hem 3’e hem 5’e bölünüyorsa YetGen yazdırıyoruz."
   ]
  },
  {
   "cell_type": "code",
   "execution_count": 1,
   "metadata": {
    "id": "Q3H7p6vnozhB"
   },
   "outputs": [
    {
     "name": "stdout",
     "output_type": "stream",
     "text": [
      "1\n",
      "2\n",
      "Yet\n",
      "4\n",
      "Gen\n",
      "Yet\n",
      "7\n",
      "8\n",
      "Yet\n",
      "Gen\n",
      "11\n",
      "Yet\n",
      "13\n",
      "14\n",
      "YetGen\n",
      "16\n",
      "17\n",
      "Yet\n",
      "19\n",
      "Gen\n",
      "Yet\n",
      "22\n",
      "23\n",
      "Yet\n",
      "Gen\n",
      "26\n",
      "Yet\n",
      "28\n",
      "29\n",
      "YetGen\n",
      "31\n",
      "32\n",
      "Yet\n",
      "34\n",
      "Gen\n",
      "Yet\n",
      "37\n",
      "38\n",
      "Yet\n",
      "Gen\n",
      "41\n",
      "Yet\n",
      "43\n",
      "44\n",
      "YetGen\n",
      "46\n",
      "47\n",
      "Yet\n",
      "49\n",
      "Gen\n",
      "Yet\n",
      "52\n",
      "53\n",
      "Yet\n",
      "Gen\n",
      "56\n",
      "Yet\n",
      "58\n",
      "59\n",
      "YetGen\n",
      "61\n",
      "62\n",
      "Yet\n",
      "64\n",
      "Gen\n",
      "Yet\n",
      "67\n",
      "68\n",
      "Yet\n",
      "Gen\n",
      "71\n",
      "Yet\n",
      "73\n",
      "74\n",
      "YetGen\n",
      "76\n",
      "77\n",
      "Yet\n",
      "79\n",
      "Gen\n",
      "Yet\n",
      "82\n",
      "83\n",
      "Yet\n",
      "Gen\n",
      "86\n",
      "Yet\n",
      "88\n",
      "89\n",
      "YetGen\n",
      "91\n",
      "92\n",
      "Yet\n",
      "94\n",
      "Gen\n",
      "Yet\n",
      "97\n",
      "98\n",
      "Yet\n",
      "Gen\n"
     ]
    }
   ],
   "source": [
    "# 7.Problemin Çözümünü Buraya Yazınız\n",
    "for i in range(1,101):\n",
    "    if i%15 == 0:\n",
    "        print(\"YetGen\")\n",
    "    elif i%5 ==0:\n",
    "        print(\"Gen\")\n",
    "    elif i%3 ==0:\n",
    "        print(\"Yet\")\n",
    "    else:\n",
    "        print(i)"
   ]
  },
  {
   "cell_type": "code",
   "execution_count": null,
   "metadata": {},
   "outputs": [],
   "source": []
  }
 ],
 "metadata": {
  "colab": {
   "provenance": []
  },
  "kernelspec": {
   "display_name": "Python 3 (ipykernel)",
   "language": "python",
   "name": "python3"
  },
  "language_info": {
   "codemirror_mode": {
    "name": "ipython",
    "version": 3
   },
   "file_extension": ".py",
   "mimetype": "text/x-python",
   "name": "python",
   "nbconvert_exporter": "python",
   "pygments_lexer": "ipython3",
   "version": "3.11.7"
  },
  "vscode": {
   "interpreter": {
    "hash": "5026d2d6e7aaaaba093def813beadff083d8733e4a511af01735cbabd156995d"
   }
  }
 },
 "nbformat": 4,
 "nbformat_minor": 4
}
