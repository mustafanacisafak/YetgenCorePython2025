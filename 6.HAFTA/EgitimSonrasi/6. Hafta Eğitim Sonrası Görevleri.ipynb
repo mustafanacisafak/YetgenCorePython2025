{
 "cells": [
  {
   "cell_type": "markdown",
   "metadata": {
    "id": "unoTPlV_tJOm"
   },
   "source": [
    "# Problem 1 \n",
    "Bir sayının çift olup olmadığını sorgulayan bir fonksiyon yazın. Bu fonksiyon, eğer sayı çift ise bu değeri dönsün. Ancak sayı tek sayı ise fonksiyon raise ile ValueError hatası oluştursun. Daha sonra, içinde çift ve tek sayılar bulunduran bir liste tanımlayın ve liste üzerinde gezinerek ekrana sadece çift sayıları bastırın."
   ]
  },
  {
   "cell_type": "code",
   "execution_count": 11,
   "metadata": {
    "id": "7oyBSeXptJOp"
   },
   "outputs": [
    {
     "name": "stdout",
     "output_type": "stream",
     "text": [
      "2\n",
      "8\n",
      "22\n",
      "40\n"
     ]
    }
   ],
   "source": [
    "def cift_sayi(sayi):\n",
    "    if sayi % 2 == 0:\n",
    "        return sayi\n",
    "    else:\n",
    "        raise ValueError(f\"{sayi} bir çift sayı değil.\")\n",
    "\n",
    "sayilar = [2, 5, 8, 13, 22, 37, 40]\n",
    "\n",
    "for sayi in sayilar:\n",
    "    try:\n",
    "        sonuc = cift_sayi(sayi)\n",
    "        print(sonuc)\n",
    "    except ValueError:\n",
    "        pass"
   ]
  },
  {
   "cell_type": "code",
   "execution_count": null,
   "metadata": {},
   "outputs": [],
   "source": []
  },
  {
   "cell_type": "code",
   "execution_count": null,
   "metadata": {},
   "outputs": [],
   "source": []
  },
  {
   "cell_type": "markdown",
   "metadata": {
    "id": "CdfzJ2A9tJOq"
   },
   "source": [
    "# Problem 2\n",
    "\n",
    "2 YetGen lideri ders sırasında canları sıkılınca oyun oynamak isterler. Ancak hangi oyunu oynayacaklarına karar veremezler ve son olarak kendi oyunlarını yazmaya karar verirler.\n",
    "Liderlerimizin kodlamak istediği oyun kuralları şöyledir:\n",
    "- Oyunda random olarak 0 ile 100 arasında bir sayı tutulur.\n",
    "- Kullanıcıdan bilgisayarın tuttuğu sayıyı tahmin etmesi için bir sayı girmesini istenir.\n",
    "- Eğer kullanıcının girdiği sayı bulunması gereken sayıdan küçükse  tahmininizi yükseltin, büyükse tahmininizi düşürün şeklinde bir çıktı verilir.\n",
    "- Oyunun gerçeğe yakın olması için bilgisayarın çalışmasını simgelemek için 1 saniye bekleme süresi tanınır.\n",
    "- Kullanıcı 5 hakkı vardır. 5 hakkı da kullanıp sayıyı bulamazsa oyunu kaybeder."
   ]
  },
  {
   "cell_type": "code",
   "execution_count": null,
   "metadata": {
    "id": "A1VEETgCtJOr"
   },
   "outputs": [],
   "source": [
    "# 2.Problemin Çözümünü Buraya Yazınız\n",
    "\n",
    "import random\n",
    "import time\n",
    "\n",
    "def sayi_tahmin_oyunu():\n",
    "    hedef_sayi = random.randint(0, 100)\n",
    "    hak = 5\n",
    "\n",
    "    print(\"0 ile 100 arasında bir sayı tuttum. Tahmin et.\")\n",
    "    print(\"Toplam 5 hakkın var.\")\n",
    "\n",
    "    while hak > 0:\n",
    "        try:\n",
    "            tahmin = int(input(\"Tahmininizi girin: \"))\n",
    "        except ValueError:\n",
    "            print(\"Lütfen geçerli bir sayı girin.\")\n",
    "            continue\n",
    "\n",
    "        print(\"Kontrol ediliyor...\")\n",
    "        time.sleep(1)\n",
    "\n",
    "        if tahmin == hedef_sayi:\n",
    "            print(\"Tebrikler! Doğru tahmin :)\")\n",
    "            break\n",
    "        elif tahmin < hedef_sayi:\n",
    "            print(\"Tahmininizi YÜKSELTİN.\")\n",
    "        else:\n",
    "            print(\"Tahmininizi DÜŞÜRÜN.\")\n",
    "        \n",
    "        hak -= 1\n",
    "        print(f\"Kalan hakkınız: {hak}\")\n",
    "\n",
    "    else:\n",
    "        print(f\"Bilemediniz. Doğru sayı: {hedef_sayi}\")\n",
    "\n",
    "sayi_tahmin_oyunu()"
   ]
  }
 ],
 "metadata": {
  "colab": {
   "provenance": []
  },
  "kernelspec": {
   "display_name": "Python 3 (ipykernel)",
   "language": "python",
   "name": "python3"
  },
  "language_info": {
   "codemirror_mode": {
    "name": "ipython",
    "version": 3
   },
   "file_extension": ".py",
   "mimetype": "text/x-python",
   "name": "python",
   "nbconvert_exporter": "python",
   "pygments_lexer": "ipython3",
   "version": "3.12.7"
  },
  "vscode": {
   "interpreter": {
    "hash": "5026d2d6e7aaaaba093def813beadff083d8733e4a511af01735cbabd156995d"
   }
  }
 },
 "nbformat": 4,
 "nbformat_minor": 4
}
